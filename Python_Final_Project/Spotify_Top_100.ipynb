{
 "cells": [
  {
   "cell_type": "code",
   "execution_count": 1,
   "id": "b8bec7fa",
   "metadata": {},
   "outputs": [],
   "source": [
    "from flask import Flask, render_template, request, redirect, url_for, flash\n",
    "from flask_sqlalchemy import SQLAlchemy\n",
    "import sqlite3 as sql\n"
   ]
  },
  {
   "cell_type": "code",
   "execution_count": 2,
   "id": "ac137cc9",
   "metadata": {},
   "outputs": [],
   "source": [
    "app = Flask(__name__)\n",
    "app.config['SQLALCHEMY_DATABASE_URI'] = 'sqlite:///C:\\\\Users\\\\khadk\\\\Downloads\\\\Python_Final_Project\\\\SpotifyStreamingRecords_database.db'\n",
    "app.config['SQLALCHEMY_BINDS'] = {'three': 'sqlite:///C:\\\\Users\\\\khadk\\\\Downloads\\\\Python_Final_Project\\\\GreatestFansOfMusic.db'}\n",
    "db = SQLAlchemy(app)"
   ]
  },
  {
   "cell_type": "code",
   "execution_count": 3,
   "id": "4c3105fb",
   "metadata": {},
   "outputs": [
    {
     "data": {
      "text/plain": [
       "<SQLAlchemy>"
      ]
     },
     "execution_count": 3,
     "metadata": {},
     "output_type": "execute_result"
    },
    {
     "data": {
      "text/plain": [
       "<SQLAlchemy>"
      ]
     },
     "execution_count": 3,
     "metadata": {},
     "output_type": "execute_result"
    }
   ],
   "source": [
    "db"
   ]
  },
  {
   "cell_type": "code",
   "execution_count": 4,
   "id": "8aab589e",
   "metadata": {},
   "outputs": [],
   "source": [
    "class SpotifyRecord(db.Model):\n",
    "    __tablename__ = 'Streaming_Records_for_Spotify'\n",
    "    __table_args__ = {'extend_existing': True} \n",
    "    Rank = db.Column(db.Integer, primary_key=True)\n",
    "    Song = db.Column(db.String, nullable=False)\n",
    "    Artist_s = db.Column(db.String, nullable=False)\n",
    "    Streams_billions = db.Column(db.Float, nullable=False)\n",
    "    Release_date = db.Column(db.String, nullable=False)\n",
    "    \n",
    "class GreatestFansOfMusicDB(db.Model):\n",
    "    __tablename__ = \"greatest_fans_table\"\n",
    "#     __table_args__ = {'extend_existing': True} \n",
    "    SNo = db.Column(db.Integer, primary_key=True)\n",
    "    Name = db.Column(db.String, nullable=False)\n",
    "    \n",
    "    def __repr__(self):\n",
    "        return f\"{self.SNo}: {self.Name}\""
   ]
  },
  {
   "cell_type": "code",
   "execution_count": null,
   "id": "9f8912cc",
   "metadata": {},
   "outputs": [],
   "source": []
  },
  {
   "cell_type": "code",
   "execution_count": 5,
   "id": "27b8eef9",
   "metadata": {},
   "outputs": [],
   "source": [
    "@app.route(\"/\",methods=[\"GET\", \"POST\"])\n",
    "def index():\n",
    "    db.create_all()\n",
    "    if request.method == \"POST\":\n",
    "        fan_name = request.form['Name']\n",
    "        greatest_fans = GreatestFansOfMusicDB(Name = fan_name)\n",
    "        db.session.add(greatest_fans)\n",
    "        db.session.commit()\n",
    "    all_fans = GreatestFansOfMusicDB.query.all()\n",
    "    print(all_fans)\n",
    "    return render_template(\"index.html\",all_fans=all_fans)\n",
    "@app.route(\"/delete/<int:SNo>\")\n",
    "def delete(SNo):\n",
    "    delete_fan = GreatestFansOfMusicDB.query.filter_by(SNo=SNo).first()\n",
    "    db.session.delete(delete_fan)\n",
    "    db.session.commit()\n",
    "    return redirect(\"/\")\n",
    "@app.route(\"/data\")\n",
    "def data():\n",
    "    db.create_all()\n",
    "    all_songs = SpotifyRecord.query.all()\n",
    "    return render_template(\"data.html\",all_songs=all_songs)\n",
    "@app.route(\"/about\")\n",
    "def about():\n",
    "    return render_template(\"about.html\")\n",
    "\n",
    "@app.route(\"/data_description\")\n",
    "def data_description():\n",
    "    return render_template(\"data_description.html\")  # Create this HTML template\n",
    "\n",
    "@app.route(\"/search_by_song\",methods=[\"GET\", \"POST\"])\n",
    "def search_by_song():\n",
    "    song_name = request.form.get('Song')\n",
    "    if song_name is not None:\n",
    "        print(song_name)\n",
    "        song_details = SpotifyRecord.query.filter_by(Song=song_name).first()\n",
    "        print(song_details)\n",
    "        return render_template('search_by_song.html', results=song_details)\n",
    "\n",
    "    # If no Song parameter is provided\n",
    "    return render_template('search_by_song.html', results=None)\n",
    "@app.route(\"/search_by_rank\",methods=[\"GET\", \"POST\"])\n",
    "def search_by_rank():\n",
    "    song_rank = request.form.get('Rank')\n",
    "    if song_rank is not None:\n",
    "        print(song_rank)\n",
    "        song_details = SpotifyRecord.query.filter_by(Rank=song_rank).first()\n",
    "        print(song_details)\n",
    "        return render_template('search_by_rank.html', results=song_details)\n",
    "\n",
    "    # If no Rank parameter is provided\n",
    "    return render_template('search_by_rank.html', results=None)\n",
    "@app.route(\"/search_by_artist\", methods=[\"GET\", \"POST\"])\n",
    "def search_by_artist():\n",
    "    artist_name = request.form.get('Artist')\n",
    "\n",
    "    if artist_name is not None:\n",
    "        print(artist_name)\n",
    "        songs_by_artist = SpotifyRecord.query.filter(SpotifyRecord.Artist_s.contains(artist_name)).all()\n",
    "        print(songs_by_artist)\n",
    "        return render_template('search_by_artist.html', results=songs_by_artist)\n",
    "\n",
    "    # If no Artist parameter is provided\n",
    "    return render_template('search_by_artist.html', results=None)"
   ]
  },
  {
   "cell_type": "code",
   "execution_count": 6,
   "id": "eaafa5dd",
   "metadata": {},
   "outputs": [
    {
     "name": "stdout",
     "output_type": "stream",
     "text": [
      " * Serving Flask app '__main__'\n",
      " * Serving Flask app '__main__'\n",
      " * Debug mode: off\n",
      " * Debug mode: off\n"
     ]
    },
    {
     "name": "stderr",
     "output_type": "stream",
     "text": [
      "WARNING: This is a development server. Do not use it in a production deployment. Use a production WSGI server instead.\n",
      " * Running on http://127.0.0.1:5000\n",
      "WARNING: This is a development server. Do not use it in a production deployment. Use a production WSGI server instead.Press CTRL+C to quit\n",
      " * Running on http://127.0.0.1:5000\n",
      "\n",
      "Press CTRL+C to quit\n",
      "127.0.0.1 - - [10/Dec/2023 20:14:01] \"GET / HTTP/1.1\" 200 -\n",
      "127.0.0.1 - - [10/Dec/2023 20:14:01] \"GET / HTTP/1.1\" 200 -\n",
      "127.0.0.1 - - [10/Dec/2023 20:14:01] \"127.0.0.1 - - [10/Dec/2023 20:14:01] \"GET /static/styles.css HTTP/1.1GET /static/styles.css HTTP/1.1\" 304 -\n",
      "\" 304 -\n"
     ]
    },
    {
     "name": "stdout",
     "output_type": "stream",
     "text": [
      "[1: Karan, 4: Yash]\n",
      "[1: Karan, 4: Yash]\n"
     ]
    },
    {
     "name": "stderr",
     "output_type": "stream",
     "text": [
      "127.0.0.1 - - [10/Dec/2023 20:14:04] \"GET /data HTTP/1.1\" 200 -\n",
      "127.0.0.1 - - [10/Dec/2023 20:14:04] \"GET /data HTTP/1.1\" 200 -\n",
      "127.0.0.1 - - [10/Dec/2023 20:14:04] \"GET /static/styles.css HTTP/1.1127.0.0.1 - - [10/Dec/2023 20:14:04] \"\" 304 -\n",
      "GET /static/styles.css HTTP/1.1\" 304 -\n",
      "127.0.0.1 - - [10/Dec/2023 20:14:05] \"GET /search_by_rank HTTP/1.1\" 200 -\n",
      "127.0.0.1 - - [10/Dec/2023 20:14:05] \"GET /search_by_rank HTTP/1.1\" 200 -\n",
      "127.0.0.1 - - [10/Dec/2023 20:14:05] \"GET /static/styles.css HTTP/1.1127.0.0.1 - - [10/Dec/2023 20:14:05] \"\" 304 -\n",
      "GET /static/styles.css HTTP/1.1\" 304 -\n",
      "127.0.0.1 - - [10/Dec/2023 20:14:07] \"POST /search_by_rank HTTP/1.1\" 200 -\n",
      "127.0.0.1 - - [10/Dec/2023 20:14:07] \"POST /search_by_rank HTTP/1.1\" 200 -\n",
      "127.0.0.1 - - [10/Dec/2023 20:14:07] \"GET /static/styles.css HTTP/1.1127.0.0.1 - - [10/Dec/2023 20:14:07] \"\" 304 -\n",
      "GET /static/styles.css HTTP/1.1\" 304 -\n"
     ]
    },
    {
     "name": "stdout",
     "output_type": "stream",
     "text": [
      "1\n",
      "<SpotifyRecord 1>\n",
      "1\n",
      "<SpotifyRecord 1>\n"
     ]
    },
    {
     "name": "stderr",
     "output_type": "stream",
     "text": [
      "127.0.0.1 - - [10/Dec/2023 20:14:09] \"GET / HTTP/1.1\" 200 -\n",
      "127.0.0.1 - - [10/Dec/2023 20:14:09] \"GET / HTTP/1.1\" 200 -\n",
      "127.0.0.1 - - [10/Dec/2023 20:14:09] \"GET /static/styles.css HTTP/1.1127.0.0.1 - - [10/Dec/2023 20:14:09] \"\" 304 -\n",
      "GET /static/styles.css HTTP/1.1\" 304 -\n"
     ]
    },
    {
     "name": "stdout",
     "output_type": "stream",
     "text": [
      "[1: Karan, 4: Yash]\n",
      "[1: Karan, 4: Yash]\n"
     ]
    },
    {
     "name": "stderr",
     "output_type": "stream",
     "text": [
      "127.0.0.1 - - [10/Dec/2023 20:14:12] \"POST / HTTP/1.1\" 200 -\n",
      "127.0.0.1 - - [10/Dec/2023 20:14:12] \"POST / HTTP/1.1\" 200 -\n",
      "127.0.0.1 - - [10/Dec/2023 20:14:12] \"GET /static/styles.css HTTP/1.1127.0.0.1 - - [10/Dec/2023 20:14:12] \"\" 304 -\n",
      "GET /static/styles.css HTTP/1.1\" 304 -\n"
     ]
    },
    {
     "name": "stdout",
     "output_type": "stream",
     "text": [
      "[1: Karan, 4: Yash, 5: Yash]\n",
      "[1: Karan, 4: Yash, 5: Yash]\n"
     ]
    },
    {
     "name": "stderr",
     "output_type": "stream",
     "text": [
      "127.0.0.1 - - [10/Dec/2023 20:14:13] \"GET /delete/5 HTTP/1.1127.0.0.1 - - [10/Dec/2023 20:14:13] \"\" 302 -\n",
      "GET /delete/5 HTTP/1.1\" 302 -\n",
      "127.0.0.1 - - [10/Dec/2023 20:14:13] \"GET / HTTP/1.1\" 200 -\n",
      "127.0.0.1 - - [10/Dec/2023 20:14:13] \"GET / HTTP/1.1\" 200 -\n",
      "127.0.0.1 - - [10/Dec/2023 20:14:13] \"GET /static/styles.css HTTP/1.1127.0.0.1 - - [10/Dec/2023 20:14:13] \"\" 304 -\n",
      "GET /static/styles.css HTTP/1.1\" 304 -\n"
     ]
    },
    {
     "name": "stdout",
     "output_type": "stream",
     "text": [
      "[1: Karan, 4: Yash]\n",
      "[1: Karan, 4: Yash]\n"
     ]
    },
    {
     "name": "stderr",
     "output_type": "stream",
     "text": [
      "127.0.0.1 - - [10/Dec/2023 20:14:14] \"GET /delete/4 HTTP/1.1127.0.0.1 - - [10/Dec/2023 20:14:14] \"\" 302 -\n",
      "GET /delete/4 HTTP/1.1\" 302 -\n",
      "127.0.0.1 - - [10/Dec/2023 20:14:14] \"GET / HTTP/1.1\" 200 -\n",
      "127.0.0.1 - - [10/Dec/2023 20:14:14] \"GET / HTTP/1.1\" 200 -\n",
      "127.0.0.1 - - [10/Dec/2023 20:14:14] \"GET /static/styles.css HTTP/1.1127.0.0.1 - - [10/Dec/2023 20:14:14] \"\" 304 -\n",
      "GET /static/styles.css HTTP/1.1\" 304 -\n"
     ]
    },
    {
     "name": "stdout",
     "output_type": "stream",
     "text": [
      "[1: Karan]\n",
      "[1: Karan]\n"
     ]
    },
    {
     "name": "stderr",
     "output_type": "stream",
     "text": [
      "127.0.0.1 - - [10/Dec/2023 20:14:15] \"GET /delete/1 HTTP/1.1127.0.0.1 - - [10/Dec/2023 20:14:15] \"\" 302 -\n",
      "GET /delete/1 HTTP/1.1\" 302 -\n",
      "127.0.0.1 - - [10/Dec/2023 20:14:15] \"GET / HTTP/1.1\" 200 -\n",
      "127.0.0.1 - - [10/Dec/2023 20:14:15] \"GET / HTTP/1.1\" 200 -\n",
      "127.0.0.1 - - [10/Dec/2023 20:14:15] \"GET /static/styles.css HTTP/1.1127.0.0.1 - - [10/Dec/2023 20:14:15] \"\" 304 -\n",
      "GET /static/styles.css HTTP/1.1\" 304 -\n"
     ]
    },
    {
     "name": "stdout",
     "output_type": "stream",
     "text": [
      "[]\n",
      "[]\n"
     ]
    }
   ],
   "source": [
    "if __name__ == \"__main__\":\n",
    "    app.secret_key='admin123'\n",
    "    app.run(debug=False)"
   ]
  },
  {
   "cell_type": "code",
   "execution_count": null,
   "id": "66a6e9c5",
   "metadata": {},
   "outputs": [],
   "source": []
  },
  {
   "cell_type": "code",
   "execution_count": null,
   "id": "c3849317",
   "metadata": {},
   "outputs": [],
   "source": []
  }
 ],
 "metadata": {
  "kernelspec": {
   "display_name": "Python 3 (ipykernel)",
   "language": "python",
   "name": "python3"
  },
  "language_info": {
   "codemirror_mode": {
    "name": "ipython",
    "version": 3
   },
   "file_extension": ".py",
   "mimetype": "text/x-python",
   "name": "python",
   "nbconvert_exporter": "python",
   "pygments_lexer": "ipython3",
   "version": "3.11.4"
  }
 },
 "nbformat": 4,
 "nbformat_minor": 5
}
