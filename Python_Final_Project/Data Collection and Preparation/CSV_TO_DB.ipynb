{
 "cells": [
  {
   "cell_type": "code",
   "execution_count": 1,
   "id": "1e58993b",
   "metadata": {},
   "outputs": [],
   "source": [
    "import sqlite3\n",
    "import pandas as pd"
   ]
  },
  {
   "cell_type": "code",
   "execution_count": 2,
   "id": "7c849e30",
   "metadata": {},
   "outputs": [],
   "source": [
    "df = pd.read_csv('SpotifyStreamingRecords_1.csv')"
   ]
  },
  {
   "cell_type": "code",
   "execution_count": 3,
   "id": "85dbcbd3",
   "metadata": {},
   "outputs": [
    {
     "data": {
      "text/html": [
       "<div>\n",
       "<style scoped>\n",
       "    .dataframe tbody tr th:only-of-type {\n",
       "        vertical-align: middle;\n",
       "    }\n",
       "\n",
       "    .dataframe tbody tr th {\n",
       "        vertical-align: top;\n",
       "    }\n",
       "\n",
       "    .dataframe thead th {\n",
       "        text-align: right;\n",
       "    }\n",
       "</style>\n",
       "<table border=\"1\" class=\"dataframe\">\n",
       "  <thead>\n",
       "    <tr style=\"text-align: right;\">\n",
       "      <th></th>\n",
       "      <th>Rank</th>\n",
       "      <th>Song</th>\n",
       "      <th>Artist_s</th>\n",
       "      <th>Streams_billions</th>\n",
       "      <th>Release_date</th>\n",
       "    </tr>\n",
       "  </thead>\n",
       "  <tbody>\n",
       "    <tr>\n",
       "      <th>0</th>\n",
       "      <td>1</td>\n",
       "      <td>Blinding Lights</td>\n",
       "      <td>The Weeknd</td>\n",
       "      <td>3.90</td>\n",
       "      <td>29 November 2019</td>\n",
       "    </tr>\n",
       "    <tr>\n",
       "      <th>1</th>\n",
       "      <td>2</td>\n",
       "      <td>Shape of You</td>\n",
       "      <td>Ed Sheeran</td>\n",
       "      <td>3.69</td>\n",
       "      <td>6 January 2017</td>\n",
       "    </tr>\n",
       "    <tr>\n",
       "      <th>2</th>\n",
       "      <td>3</td>\n",
       "      <td>Someone You Loved</td>\n",
       "      <td>Lewis Capaldi</td>\n",
       "      <td>3.06</td>\n",
       "      <td>8 November 2018</td>\n",
       "    </tr>\n",
       "    <tr>\n",
       "      <th>3</th>\n",
       "      <td>4</td>\n",
       "      <td>Sunflower</td>\n",
       "      <td>Post Malone and Swae Lee</td>\n",
       "      <td>3.01</td>\n",
       "      <td>18 October 2018</td>\n",
       "    </tr>\n",
       "    <tr>\n",
       "      <th>4</th>\n",
       "      <td>5</td>\n",
       "      <td>Dance Monkey</td>\n",
       "      <td>Tones and I</td>\n",
       "      <td>2.94</td>\n",
       "      <td>10 May 2019</td>\n",
       "    </tr>\n",
       "    <tr>\n",
       "      <th>...</th>\n",
       "      <td>...</td>\n",
       "      <td>...</td>\n",
       "      <td>...</td>\n",
       "      <td>...</td>\n",
       "      <td>...</td>\n",
       "    </tr>\n",
       "    <tr>\n",
       "      <th>95</th>\n",
       "      <td>96</td>\n",
       "      <td>Cold Heart Pnau Remix</td>\n",
       "      <td>Elton John and Dua Lipa with Pnau</td>\n",
       "      <td>1.75</td>\n",
       "      <td>13 August 2021</td>\n",
       "    </tr>\n",
       "    <tr>\n",
       "      <th>96</th>\n",
       "      <td>97</td>\n",
       "      <td>Stitches</td>\n",
       "      <td>Shawn Mendes</td>\n",
       "      <td>1.75</td>\n",
       "      <td>14 April 2015</td>\n",
       "    </tr>\n",
       "    <tr>\n",
       "      <th>97</th>\n",
       "      <td>98</td>\n",
       "      <td>I Dont Care</td>\n",
       "      <td>Ed Sheeran and Justin Bieber</td>\n",
       "      <td>1.74</td>\n",
       "      <td>10 May 2019</td>\n",
       "    </tr>\n",
       "    <tr>\n",
       "      <th>98</th>\n",
       "      <td>99</td>\n",
       "      <td>In the End</td>\n",
       "      <td>Linkin Park</td>\n",
       "      <td>1.74</td>\n",
       "      <td>24 October 2000</td>\n",
       "    </tr>\n",
       "    <tr>\n",
       "      <th>99</th>\n",
       "      <td>100</td>\n",
       "      <td>Every Breath You Take</td>\n",
       "      <td>The Police</td>\n",
       "      <td>1.74</td>\n",
       "      <td>20 May 1983</td>\n",
       "    </tr>\n",
       "  </tbody>\n",
       "</table>\n",
       "<p>100 rows × 5 columns</p>\n",
       "</div>"
      ],
      "text/plain": [
       "    Rank                   Song                           Artist_s  \\\n",
       "0      1        Blinding Lights                         The Weeknd   \n",
       "1      2           Shape of You                         Ed Sheeran   \n",
       "2      3      Someone You Loved                      Lewis Capaldi   \n",
       "3      4              Sunflower           Post Malone and Swae Lee   \n",
       "4      5           Dance Monkey                        Tones and I   \n",
       "..   ...                    ...                                ...   \n",
       "95    96  Cold Heart Pnau Remix  Elton John and Dua Lipa with Pnau   \n",
       "96    97               Stitches                       Shawn Mendes   \n",
       "97    98            I Dont Care       Ed Sheeran and Justin Bieber   \n",
       "98    99             In the End                        Linkin Park   \n",
       "99   100  Every Breath You Take                         The Police   \n",
       "\n",
       "    Streams_billions      Release_date  \n",
       "0               3.90  29 November 2019  \n",
       "1               3.69    6 January 2017  \n",
       "2               3.06   8 November 2018  \n",
       "3               3.01   18 October 2018  \n",
       "4               2.94       10 May 2019  \n",
       "..               ...               ...  \n",
       "95              1.75    13 August 2021  \n",
       "96              1.75     14 April 2015  \n",
       "97              1.74       10 May 2019  \n",
       "98              1.74   24 October 2000  \n",
       "99              1.74       20 May 1983  \n",
       "\n",
       "[100 rows x 5 columns]"
      ]
     },
     "execution_count": 3,
     "metadata": {},
     "output_type": "execute_result"
    }
   ],
   "source": [
    "df"
   ]
  },
  {
   "cell_type": "code",
   "execution_count": 4,
   "id": "f393bb53",
   "metadata": {},
   "outputs": [],
   "source": [
    "connection =  sqlite3.connect('SpotifyStreamingRecords_database.db')"
   ]
  },
  {
   "cell_type": "code",
   "execution_count": 5,
   "id": "281e2700",
   "metadata": {},
   "outputs": [
    {
     "data": {
      "text/plain": [
       "100"
      ]
     },
     "execution_count": 5,
     "metadata": {},
     "output_type": "execute_result"
    }
   ],
   "source": [
    "df.to_sql('Streaming_Records_For_Spotify',connection,if_exists='replace')"
   ]
  },
  {
   "cell_type": "code",
   "execution_count": null,
   "id": "1a012817",
   "metadata": {},
   "outputs": [],
   "source": []
  }
 ],
 "metadata": {
  "kernelspec": {
   "display_name": "Python 3 (ipykernel)",
   "language": "python",
   "name": "python3"
  },
  "language_info": {
   "codemirror_mode": {
    "name": "ipython",
    "version": 3
   },
   "file_extension": ".py",
   "mimetype": "text/x-python",
   "name": "python",
   "nbconvert_exporter": "python",
   "pygments_lexer": "ipython3",
   "version": "3.11.4"
  }
 },
 "nbformat": 4,
 "nbformat_minor": 5
}
