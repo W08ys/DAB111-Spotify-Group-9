{
 "cells": [
  {
   "cell_type": "markdown",
   "id": "271e68d0",
   "metadata": {},
   "source": [
    "# Data Processing of Spotify information after scraping it from the Website"
   ]
  },
  {
   "cell_type": "code",
   "execution_count": null,
   "id": "e9e07124",
   "metadata": {},
   "outputs": [],
   "source": []
  },
  {
   "cell_type": "markdown",
   "id": "28ec1a27",
   "metadata": {},
   "source": [
    "# Load the csv file"
   ]
  },
  {
   "cell_type": "code",
   "execution_count": 1,
   "id": "fd4040cf",
   "metadata": {
    "scrolled": true
   },
   "outputs": [
    {
     "data": {
      "text/html": [
       "<div>\n",
       "<style scoped>\n",
       "    .dataframe tbody tr th:only-of-type {\n",
       "        vertical-align: middle;\n",
       "    }\n",
       "\n",
       "    .dataframe tbody tr th {\n",
       "        vertical-align: top;\n",
       "    }\n",
       "\n",
       "    .dataframe thead th {\n",
       "        text-align: right;\n",
       "    }\n",
       "</style>\n",
       "<table border=\"1\" class=\"dataframe\">\n",
       "  <thead>\n",
       "    <tr style=\"text-align: right;\">\n",
       "      <th></th>\n",
       "      <th>Rank</th>\n",
       "      <th>Song</th>\n",
       "      <th>Artist(s)</th>\n",
       "      <th>Streams(billions)</th>\n",
       "      <th>Release date</th>\n",
       "    </tr>\n",
       "  </thead>\n",
       "  <tbody>\n",
       "    <tr>\n",
       "      <th>0</th>\n",
       "      <td>1</td>\n",
       "      <td>\"Blinding Lights\"</td>\n",
       "      <td>The Weeknd</td>\n",
       "      <td>3.896</td>\n",
       "      <td>29 November 2019</td>\n",
       "    </tr>\n",
       "    <tr>\n",
       "      <th>1</th>\n",
       "      <td>2</td>\n",
       "      <td>\"Shape of You\"</td>\n",
       "      <td>Ed Sheeran</td>\n",
       "      <td>3.687</td>\n",
       "      <td>6 January 2017</td>\n",
       "    </tr>\n",
       "    <tr>\n",
       "      <th>2</th>\n",
       "      <td>3</td>\n",
       "      <td>\"Someone You Loved\"</td>\n",
       "      <td>Lewis Capaldi</td>\n",
       "      <td>3.061</td>\n",
       "      <td>8 November 2018</td>\n",
       "    </tr>\n",
       "    <tr>\n",
       "      <th>3</th>\n",
       "      <td>4</td>\n",
       "      <td>\"Sunflower\"</td>\n",
       "      <td>Post Malone and Swae Lee</td>\n",
       "      <td>3.007</td>\n",
       "      <td>18 October 2018</td>\n",
       "    </tr>\n",
       "    <tr>\n",
       "      <th>4</th>\n",
       "      <td>5</td>\n",
       "      <td>\"Dance Monkey\"</td>\n",
       "      <td>Tones and I</td>\n",
       "      <td>2.937</td>\n",
       "      <td>10 May 2019</td>\n",
       "    </tr>\n",
       "  </tbody>\n",
       "</table>\n",
       "</div>"
      ],
      "text/plain": [
       "   Rank                 Song                 Artist(s)  Streams(billions)  \\\n",
       "0     1    \"Blinding Lights\"                The Weeknd              3.896   \n",
       "1     2       \"Shape of You\"                Ed Sheeran              3.687   \n",
       "2     3  \"Someone You Loved\"             Lewis Capaldi              3.061   \n",
       "3     4          \"Sunflower\"  Post Malone and Swae Lee              3.007   \n",
       "4     5       \"Dance Monkey\"               Tones and I              2.937   \n",
       "\n",
       "       Release date  \n",
       "0  29 November 2019  \n",
       "1    6 January 2017  \n",
       "2   8 November 2018  \n",
       "3   18 October 2018  \n",
       "4       10 May 2019  "
      ]
     },
     "execution_count": 1,
     "metadata": {},
     "output_type": "execute_result"
    }
   ],
   "source": [
    "import numpy as np\n",
    "import pandas as pd\n",
    "\n",
    "spotify = pd.read_csv('SpotifyStreamingRecords.csv')\n",
    "\n",
    "spotify.head()"
   ]
  },
  {
   "cell_type": "markdown",
   "id": "b3bbd46d",
   "metadata": {},
   "source": [
    "# Data Processing"
   ]
  },
  {
   "cell_type": "markdown",
   "id": "80e08dfd",
   "metadata": {},
   "source": [
    "#\n",
    "\n",
    "Checking the data type for each column"
   ]
  },
  {
   "cell_type": "code",
   "execution_count": 2,
   "id": "578ecffd",
   "metadata": {
    "scrolled": false
   },
   "outputs": [
    {
     "name": "stdout",
     "output_type": "stream",
     "text": [
      "Shape of the dataset is (100, 5) \n",
      "\n",
      "Data types are below where 'object' indicates a string type: \n",
      "Rank                   int64\n",
      "Song                  object\n",
      "Artist(s)             object\n",
      "Streams(billions)    float64\n",
      "Release date          object\n",
      "dtype: object\n"
     ]
    }
   ],
   "source": [
    "print(f\"Shape of the dataset is {spotify.shape} \\n\")\n",
    "print(f\"Data types are below where 'object' indicates a string type: \")\n",
    "print(spotify.dtypes)"
   ]
  },
  {
   "cell_type": "markdown",
   "id": "f374b5e9",
   "metadata": {},
   "source": [
    "#\n",
    "\n",
    "Checking to see if there is any empty cell"
   ]
  },
  {
   "cell_type": "code",
   "execution_count": 3,
   "id": "a4956c9e",
   "metadata": {},
   "outputs": [
    {
     "name": "stdout",
     "output_type": "stream",
     "text": [
      "\n",
      "Number of missing values for each feature:\n",
      "Rank                 0\n",
      "Song                 0\n",
      "Artist(s)            0\n",
      "Streams(billions)    0\n",
      "Release date         0\n",
      "dtype: int64\n"
     ]
    }
   ],
   "source": [
    "print(f\"\\nNumber of missing values for each feature:\")\n",
    "print(spotify.isnull().sum())"
   ]
  },
  {
   "cell_type": "markdown",
   "id": "a15d8f87",
   "metadata": {},
   "source": [
    "### Removing the quotation marks from the Song title"
   ]
  },
  {
   "cell_type": "code",
   "execution_count": 4,
   "id": "f3e2b194",
   "metadata": {},
   "outputs": [
    {
     "data": {
      "text/html": [
       "<div>\n",
       "<style scoped>\n",
       "    .dataframe tbody tr th:only-of-type {\n",
       "        vertical-align: middle;\n",
       "    }\n",
       "\n",
       "    .dataframe tbody tr th {\n",
       "        vertical-align: top;\n",
       "    }\n",
       "\n",
       "    .dataframe thead th {\n",
       "        text-align: right;\n",
       "    }\n",
       "</style>\n",
       "<table border=\"1\" class=\"dataframe\">\n",
       "  <thead>\n",
       "    <tr style=\"text-align: right;\">\n",
       "      <th></th>\n",
       "      <th>Rank</th>\n",
       "      <th>Song</th>\n",
       "      <th>Artist(s)</th>\n",
       "      <th>Streams(billions)</th>\n",
       "      <th>Release date</th>\n",
       "    </tr>\n",
       "  </thead>\n",
       "  <tbody>\n",
       "    <tr>\n",
       "      <th>0</th>\n",
       "      <td>1</td>\n",
       "      <td>Blinding Lights</td>\n",
       "      <td>The Weeknd</td>\n",
       "      <td>3.896</td>\n",
       "      <td>29 November 2019</td>\n",
       "    </tr>\n",
       "    <tr>\n",
       "      <th>1</th>\n",
       "      <td>2</td>\n",
       "      <td>Shape of You</td>\n",
       "      <td>Ed Sheeran</td>\n",
       "      <td>3.687</td>\n",
       "      <td>6 January 2017</td>\n",
       "    </tr>\n",
       "    <tr>\n",
       "      <th>2</th>\n",
       "      <td>3</td>\n",
       "      <td>Someone You Loved</td>\n",
       "      <td>Lewis Capaldi</td>\n",
       "      <td>3.061</td>\n",
       "      <td>8 November 2018</td>\n",
       "    </tr>\n",
       "    <tr>\n",
       "      <th>3</th>\n",
       "      <td>4</td>\n",
       "      <td>Sunflower</td>\n",
       "      <td>Post Malone and Swae Lee</td>\n",
       "      <td>3.007</td>\n",
       "      <td>18 October 2018</td>\n",
       "    </tr>\n",
       "    <tr>\n",
       "      <th>4</th>\n",
       "      <td>5</td>\n",
       "      <td>Dance Monkey</td>\n",
       "      <td>Tones and I</td>\n",
       "      <td>2.937</td>\n",
       "      <td>10 May 2019</td>\n",
       "    </tr>\n",
       "  </tbody>\n",
       "</table>\n",
       "</div>"
      ],
      "text/plain": [
       "   Rank               Song                 Artist(s)  Streams(billions)  \\\n",
       "0     1    Blinding Lights                The Weeknd              3.896   \n",
       "1     2       Shape of You                Ed Sheeran              3.687   \n",
       "2     3  Someone You Loved             Lewis Capaldi              3.061   \n",
       "3     4          Sunflower  Post Malone and Swae Lee              3.007   \n",
       "4     5       Dance Monkey               Tones and I              2.937   \n",
       "\n",
       "       Release date  \n",
       "0  29 November 2019  \n",
       "1    6 January 2017  \n",
       "2   8 November 2018  \n",
       "3   18 October 2018  \n",
       "4       10 May 2019  "
      ]
     },
     "execution_count": 4,
     "metadata": {},
     "output_type": "execute_result"
    }
   ],
   "source": [
    "spotify['Song'] = spotify['Song'].str.replace('[^a-zA-Z0-9\\s]', '', regex=True)\n",
    "spotify.head()"
   ]
  },
  {
   "cell_type": "markdown",
   "id": "38e6f4e9",
   "metadata": {},
   "source": [
    "### Convert and round to two decimal places for the Streams(billions) column"
   ]
  },
  {
   "cell_type": "code",
   "execution_count": 5,
   "id": "cb081b1b",
   "metadata": {},
   "outputs": [
    {
     "data": {
      "text/html": [
       "<div>\n",
       "<style scoped>\n",
       "    .dataframe tbody tr th:only-of-type {\n",
       "        vertical-align: middle;\n",
       "    }\n",
       "\n",
       "    .dataframe tbody tr th {\n",
       "        vertical-align: top;\n",
       "    }\n",
       "\n",
       "    .dataframe thead th {\n",
       "        text-align: right;\n",
       "    }\n",
       "</style>\n",
       "<table border=\"1\" class=\"dataframe\">\n",
       "  <thead>\n",
       "    <tr style=\"text-align: right;\">\n",
       "      <th></th>\n",
       "      <th>Rank</th>\n",
       "      <th>Song</th>\n",
       "      <th>Artist(s)</th>\n",
       "      <th>Streams(billions)</th>\n",
       "      <th>Release date</th>\n",
       "    </tr>\n",
       "  </thead>\n",
       "  <tbody>\n",
       "    <tr>\n",
       "      <th>0</th>\n",
       "      <td>1</td>\n",
       "      <td>Blinding Lights</td>\n",
       "      <td>The Weeknd</td>\n",
       "      <td>3.90</td>\n",
       "      <td>29 November 2019</td>\n",
       "    </tr>\n",
       "    <tr>\n",
       "      <th>1</th>\n",
       "      <td>2</td>\n",
       "      <td>Shape of You</td>\n",
       "      <td>Ed Sheeran</td>\n",
       "      <td>3.69</td>\n",
       "      <td>6 January 2017</td>\n",
       "    </tr>\n",
       "    <tr>\n",
       "      <th>2</th>\n",
       "      <td>3</td>\n",
       "      <td>Someone You Loved</td>\n",
       "      <td>Lewis Capaldi</td>\n",
       "      <td>3.06</td>\n",
       "      <td>8 November 2018</td>\n",
       "    </tr>\n",
       "    <tr>\n",
       "      <th>3</th>\n",
       "      <td>4</td>\n",
       "      <td>Sunflower</td>\n",
       "      <td>Post Malone and Swae Lee</td>\n",
       "      <td>3.01</td>\n",
       "      <td>18 October 2018</td>\n",
       "    </tr>\n",
       "    <tr>\n",
       "      <th>4</th>\n",
       "      <td>5</td>\n",
       "      <td>Dance Monkey</td>\n",
       "      <td>Tones and I</td>\n",
       "      <td>2.94</td>\n",
       "      <td>10 May 2019</td>\n",
       "    </tr>\n",
       "  </tbody>\n",
       "</table>\n",
       "</div>"
      ],
      "text/plain": [
       "   Rank               Song                 Artist(s)  Streams(billions)  \\\n",
       "0     1    Blinding Lights                The Weeknd               3.90   \n",
       "1     2       Shape of You                Ed Sheeran               3.69   \n",
       "2     3  Someone You Loved             Lewis Capaldi               3.06   \n",
       "3     4          Sunflower  Post Malone and Swae Lee               3.01   \n",
       "4     5       Dance Monkey               Tones and I               2.94   \n",
       "\n",
       "       Release date  \n",
       "0  29 November 2019  \n",
       "1    6 January 2017  \n",
       "2   8 November 2018  \n",
       "3   18 October 2018  \n",
       "4       10 May 2019  "
      ]
     },
     "execution_count": 5,
     "metadata": {},
     "output_type": "execute_result"
    }
   ],
   "source": [
    "spotify['Streams(billions)'] = spotify['Streams(billions)'].astype(float).round(2)\n",
    "spotify.head()"
   ]
  },
  {
   "cell_type": "markdown",
   "id": "a8c321a0",
   "metadata": {},
   "source": [
    "## Adjusted the column names"
   ]
  },
  {
   "cell_type": "code",
   "execution_count": 6,
   "id": "12be59f4",
   "metadata": {},
   "outputs": [
    {
     "data": {
      "text/html": [
       "<div>\n",
       "<style scoped>\n",
       "    .dataframe tbody tr th:only-of-type {\n",
       "        vertical-align: middle;\n",
       "    }\n",
       "\n",
       "    .dataframe tbody tr th {\n",
       "        vertical-align: top;\n",
       "    }\n",
       "\n",
       "    .dataframe thead th {\n",
       "        text-align: right;\n",
       "    }\n",
       "</style>\n",
       "<table border=\"1\" class=\"dataframe\">\n",
       "  <thead>\n",
       "    <tr style=\"text-align: right;\">\n",
       "      <th></th>\n",
       "      <th>Rank</th>\n",
       "      <th>Song</th>\n",
       "      <th>Artist_s</th>\n",
       "      <th>Streams_billions</th>\n",
       "      <th>Release_date</th>\n",
       "    </tr>\n",
       "  </thead>\n",
       "  <tbody>\n",
       "    <tr>\n",
       "      <th>0</th>\n",
       "      <td>1</td>\n",
       "      <td>Blinding Lights</td>\n",
       "      <td>The Weeknd</td>\n",
       "      <td>3.90</td>\n",
       "      <td>29 November 2019</td>\n",
       "    </tr>\n",
       "    <tr>\n",
       "      <th>1</th>\n",
       "      <td>2</td>\n",
       "      <td>Shape of You</td>\n",
       "      <td>Ed Sheeran</td>\n",
       "      <td>3.69</td>\n",
       "      <td>6 January 2017</td>\n",
       "    </tr>\n",
       "    <tr>\n",
       "      <th>2</th>\n",
       "      <td>3</td>\n",
       "      <td>Someone You Loved</td>\n",
       "      <td>Lewis Capaldi</td>\n",
       "      <td>3.06</td>\n",
       "      <td>8 November 2018</td>\n",
       "    </tr>\n",
       "    <tr>\n",
       "      <th>3</th>\n",
       "      <td>4</td>\n",
       "      <td>Sunflower</td>\n",
       "      <td>Post Malone and Swae Lee</td>\n",
       "      <td>3.01</td>\n",
       "      <td>18 October 2018</td>\n",
       "    </tr>\n",
       "    <tr>\n",
       "      <th>4</th>\n",
       "      <td>5</td>\n",
       "      <td>Dance Monkey</td>\n",
       "      <td>Tones and I</td>\n",
       "      <td>2.94</td>\n",
       "      <td>10 May 2019</td>\n",
       "    </tr>\n",
       "  </tbody>\n",
       "</table>\n",
       "</div>"
      ],
      "text/plain": [
       "   Rank               Song                  Artist_s  Streams_billions  \\\n",
       "0     1    Blinding Lights                The Weeknd              3.90   \n",
       "1     2       Shape of You                Ed Sheeran              3.69   \n",
       "2     3  Someone You Loved             Lewis Capaldi              3.06   \n",
       "3     4          Sunflower  Post Malone and Swae Lee              3.01   \n",
       "4     5       Dance Monkey               Tones and I              2.94   \n",
       "\n",
       "       Release_date  \n",
       "0  29 November 2019  \n",
       "1    6 January 2017  \n",
       "2   8 November 2018  \n",
       "3   18 October 2018  \n",
       "4       10 May 2019  "
      ]
     },
     "execution_count": 6,
     "metadata": {},
     "output_type": "execute_result"
    }
   ],
   "source": [
    "spotify.rename(columns={\"Artist(s)\": \"Artist_s\", \"Streams(billions)\": \"Streams_billions\",\"Release date\":\"Release_date\"},inplace=True)\n",
    "spotify.head()"
   ]
  },
  {
   "cell_type": "code",
   "execution_count": null,
   "id": "0b9ee6fa",
   "metadata": {},
   "outputs": [],
   "source": []
  },
  {
   "cell_type": "code",
   "execution_count": 7,
   "id": "0a08df7c",
   "metadata": {},
   "outputs": [],
   "source": [
    "import pandas as pd\n",
    "\n",
    "spotify.to_csv('SpotifyStreamingRecords_1.csv', index=False)"
   ]
  },
  {
   "cell_type": "code",
   "execution_count": null,
   "id": "78f4f3dc",
   "metadata": {},
   "outputs": [],
   "source": []
  },
  {
   "cell_type": "code",
   "execution_count": null,
   "id": "d5c81358",
   "metadata": {},
   "outputs": [],
   "source": []
  },
  {
   "cell_type": "code",
   "execution_count": null,
   "id": "86e27462",
   "metadata": {},
   "outputs": [],
   "source": []
  }
 ],
 "metadata": {
  "kernelspec": {
   "display_name": "Python 3 (ipykernel)",
   "language": "python",
   "name": "python3"
  },
  "language_info": {
   "codemirror_mode": {
    "name": "ipython",
    "version": 3
   },
   "file_extension": ".py",
   "mimetype": "text/x-python",
   "name": "python",
   "nbconvert_exporter": "python",
   "pygments_lexer": "ipython3",
   "version": "3.11.4"
  }
 },
 "nbformat": 4,
 "nbformat_minor": 5
}
